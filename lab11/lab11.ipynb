{
 "cells": [
  {
   "cell_type": "code",
   "execution_count": null,
   "metadata": {
    "collapsed": true,
    "pycharm": {
     "is_executing": true
    }
   },
   "outputs": [],
   "source": [
    "from sklearn.datasets import fetch_california_housing\n",
    "from sklearn.model_selection import train_test_split\n",
    "from sklearn.preprocessing import StandardScaler\n",
    "from scipy.stats import reciprocal\n",
    "from sklearn.model_selection import RandomizedSearchCV\n",
    "import keras\n",
    "import numpy as np\n",
    "from keras.optimizers import SGD, Adam\n",
    "from scikeras.wrappers import KerasRegressor\n",
    "import pickle"
   ]
  },
  {
   "cell_type": "markdown",
   "source": [
    "2.1  Pobieranie danych"
   ],
   "metadata": {
    "collapsed": false
   }
  },
  {
   "cell_type": "code",
   "execution_count": null,
   "outputs": [],
   "source": [
    "housing = fetch_california_housing()\n",
    "\n",
    "X_train_full, X_test, y_train_full, y_test=train_test_split(housing.data, housing.target, random_state=42)\n",
    "X_train, X_valid, y_train, y_valid=train_test_split(X_train_full,y_train_full, random_state=42)\n",
    "\n",
    "scaler = StandardScaler()\n",
    "X_train = scaler.fit_transform(X_train)\n",
    "X_valid = scaler.transform(X_valid)\n",
    "X_test = scaler.transform(X_test)"
   ],
   "metadata": {
    "collapsed": false
   }
  },
  {
   "cell_type": "markdown",
   "source": [
    "2.2  Przeszukiwanie przestrzeni hiperparametrów przy pomocy scikit-learn"
   ],
   "metadata": {
    "collapsed": false
   }
  },
  {
   "cell_type": "code",
   "execution_count": null,
   "outputs": [],
   "source": [
    "param_distribs={\"model__n_hidden\": [0, 1, 2, 3],\"model__n_neurons\": np.arange(1, 100).tolist(),\"model__learning_rate\": reciprocal(3e-4,3e-2).rvs(1000).tolist(),\"model__optimizer\": [\"adam\", \"sgd\", \"nesterov\", \"momentum\"], \"momentum\": [0.0, 0.2, 0.4, 0.6, 0.8, 0.9]}\n",
    "\n",
    "def build_model(n_hidden=1, n_neurons=30, learning_rate=3e-3, optimizer=\"adam\", input_shape = [8], momentum = 0.0):\n",
    "    model = keras.models.Sequential()\n",
    "\n",
    "    model.add(keras.layers.InputLayer(input_shape=[8]))\n",
    "    for layer in range(n_hidden):\n",
    "        model.add(keras.layers.Dense(n_neurons, activation=\"relu\"))\n",
    "    model.add(keras.layers.Dense(1))\n",
    "\n",
    "    if optimizer == \"sgd\":\n",
    "        opt = SGD(learning_rate=learning_rate)\n",
    "    elif optimizer == \"nesterov\":\n",
    "        opt = SGD(learning_rate=learning_rate, momentum=0.9, nesterov=True)\n",
    "    elif optimizer == \"adam\":\n",
    "        opt = Adam(learning_rate=learning_rate)\n",
    "    elif optimizer == \"momentum\":\n",
    "        opt = SGD(learning_rate=learning_rate, momentum=momentum)\n",
    "\n",
    "    model.compile(loss=\"mse\", optimizer=opt)\n",
    "    return model\n",
    "\n",
    "es=keras.callbacks.EarlyStopping(patience=10, min_delta=1.0, verbose=1)\n",
    "keras_reg = KerasRegressor(build_model, callbacks=[es])\n",
    "\n",
    "rnd_search_cv = RandomizedSearchCV(keras_reg, param_distribs, n_iter=10, cv=3, verbose=2)\n",
    "rnd_search_cv.fit(X_train, y_train, epochs=100, validation_data=(X_valid, y_valid))\n",
    "\n",
    "best_params = rnd_search_cv.best_params_\n",
    "print(best_params)\n",
    "with open('rnd_search_params.pkl', 'wb') as f:\n",
    "    pickle.dump(best_params, f)"
   ],
   "metadata": {
    "collapsed": false
   }
  }
 ],
 "metadata": {
  "kernelspec": {
   "display_name": "Python 3",
   "language": "python",
   "name": "python3"
  },
  "language_info": {
   "codemirror_mode": {
    "name": "ipython",
    "version": 2
   },
   "file_extension": ".py",
   "mimetype": "text/x-python",
   "name": "python",
   "nbconvert_exporter": "python",
   "pygments_lexer": "ipython2",
   "version": "2.7.6"
  }
 },
 "nbformat": 4,
 "nbformat_minor": 0
}
