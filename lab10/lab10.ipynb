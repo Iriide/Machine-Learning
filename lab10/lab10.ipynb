{
 "cells": [
  {
   "cell_type": "code",
   "execution_count": null,
   "metadata": {
    "collapsed": true,
    "pycharm": {
     "is_executing": true
    }
   },
   "outputs": [],
   "source": [
    "import tensorflow as tf\n",
    "import matplotlib.pyplot as plt\n",
    "from keras.models import Sequential\n",
    "from keras.layers import Flatten, Dense\n",
    "import os\n",
    "import time\n",
    "from keras.callbacks import TensorBoard, EarlyStopping\n",
    "import numpy as np\n",
    "from sklearn.datasets import fetch_california_housing\n",
    "from sklearn.model_selection import train_test_split\n",
    "from sklearn.preprocessing import StandardScaler"
   ]
  },
  {
   "cell_type": "markdown",
   "source": [
    "1. Import data"
   ],
   "metadata": {
    "collapsed": false
   }
  },
  {
   "cell_type": "code",
   "execution_count": null,
   "outputs": [],
   "source": [
    "fashion_mnist = tf.keras.datasets.fashion_mnist\n",
    "(X_train, y_train), (X_test, y_test) = fashion_mnist.load_data()\n",
    "\n",
    "assert X_train.shape == (60000,28,28)\n",
    "assert X_test.shape == (10000,28,28)\n",
    "assert y_train.shape == (60000,)\n",
    "assert y_test.shape == (10000,)\n",
    "\n",
    "X_train = X_train / 225.0\n",
    "y_train = y_train / 225.0"
   ],
   "metadata": {
    "collapsed": false
   }
  },
  {
   "cell_type": "code",
   "execution_count": null,
   "outputs": [],
   "source": [
    "plt.imshow(X_train[142], cmap=\"binary\")\n",
    "plt.axis('off')\n",
    "plt.show()"
   ],
   "metadata": {
    "collapsed": false
   }
  },
  {
   "cell_type": "code",
   "execution_count": null,
   "outputs": [],
   "source": [
    "class_names=[\"koszulka\",\"spodnie\",\"pulower\",\"sukienka\",\"kurtka\",\"sandał\",\"koszula\",\"but\",\"torba\",\"kozak\"]\n",
    "class_names[y_train[142]]"
   ],
   "metadata": {
    "collapsed": false
   }
  },
  {
   "cell_type": "markdown",
   "source": [
    "2. Create model"
   ],
   "metadata": {
    "collapsed": false
   }
  },
  {
   "cell_type": "code",
   "execution_count": null,
   "outputs": [],
   "source": [
    "model = Sequential()\n",
    "\n",
    "model.add(Flatten(input_shape=(28, 28)))\n",
    "model.add(Dense(300, activation='relu'))\n",
    "model.add(Dense(100, activation='relu'))\n",
    "model.add(Dense(10, activation='softmax'))\n",
    "\n",
    "model.summary()\n",
    "tf.keras.utils.plot_model(model,\"fashion_mnist.png\", show_shapes=True)"
   ],
   "metadata": {
    "collapsed": false
   }
  },
  {
   "cell_type": "code",
   "execution_count": null,
   "outputs": [],
   "source": [
    "model.compile(loss='sparse_categorical_crossentropy',\n",
    "              optimizer='sgd',\n",
    "              metrics=['accuracy'])\n"
   ],
   "metadata": {
    "collapsed": false
   }
  },
  {
   "cell_type": "code",
   "execution_count": null,
   "outputs": [],
   "source": [
    "log_dir = os.path.join(\"image_logs\", time.strftime(\"%Y%m%d-%H%M%S\"))\n",
    "tensorboard_callback = TensorBoard(log_dir=log_dir, histogram_freq=1)\n",
    "\n",
    "model.fit(X_train, y_train, epochs=20,\n",
    "                validation_split=0.1,\n",
    "                callbacks=[tensorboard_callback])"
   ],
   "metadata": {
    "collapsed": false
   }
  },
  {
   "cell_type": "code",
   "execution_count": null,
   "outputs": [],
   "source": [
    "image_index=np.random.randint(len(X_test))\n",
    "image=np.array([X_test[image_index]])\n",
    "confidences=model.predict(image)\n",
    "confidence=np.max(confidences[0])\n",
    "prediction=np.argmax(confidences[0])\n",
    "print(\"Prediction:\", class_names[prediction])\n",
    "print(\"Confidence:\", confidence)\n",
    "print(\"Truth:\", class_names[y_test[image_index]])\n",
    "plt.imshow(image[0], cmap=\"binary\")\n",
    "plt.axis('off')\n",
    "plt.show()\n",
    "\n",
    "model.save('fashion_clf.h5')"
   ],
   "metadata": {
    "collapsed": false
   }
  },
  {
   "cell_type": "markdown",
   "source": [
    "3. Regression"
   ],
   "metadata": {
    "collapsed": false
   }
  },
  {
   "cell_type": "code",
   "execution_count": null,
   "outputs": [],
   "source": [
    "housing = fetch_california_housing(as_frame=True)\n",
    "X_train_full, X_test, y_train_full, y_test = train_test_split(housing.data, housing.target, test_size=0.2)\n",
    "\n",
    "X_train, X_valid, y_train, y_valid = train_test_split(X_train_full, y_train_full, test_size=0.2)\n",
    "\n",
    "scaler = StandardScaler()\n",
    "\n",
    "X_train = scaler.fit_transform(X_train)\n",
    "X_valid = scaler.transform(X_valid)\n",
    "X_test = scaler.transform(X_test)\n"
   ],
   "metadata": {
    "collapsed": false
   }
  },
  {
   "cell_type": "code",
   "execution_count": null,
   "outputs": [],
   "source": [
    "model_housing = Sequential()\n",
    "model_housing.add()\n",
    "\n",
    "model_housing.add(Dense(30, activation='relu'))\n",
    "model_housing.add(Dense(1))\n",
    "\n",
    "model_housing.compile(loss='mean_squared_error',\n",
    "              optimizer='sgd')\n",
    "\n",
    "early_stopping_callback = EarlyStopping(patience=5, min_delta=0.01, verbose=1)\n",
    "\n",
    "log_dir = os.path.join(\"housing_logs\", time.strftime(\"%Y%m%d-%H%M%S\"))\n",
    "tensorboard_callback = TensorBoard(log_dir=log_dir, histogram_freq=1)\n",
    "\n",
    "model_housing.fit(X_train, y_train, epochs=1000, callbacks=[early_stopping_callback, tensorboard_callback])\n",
    "\n",
    "model_housing.save('reg_housing_1.h5')"
   ],
   "metadata": {
    "collapsed": false
   }
  },
  {
   "cell_type": "code",
   "execution_count": null,
   "outputs": [],
   "source": [
    "model_housing2 = Sequential()\n",
    "model_housing2.add()\n",
    "\n",
    "model_housing2.add(Dense(100, activation='sigmoid'))\n",
    "model_housing2.add(Dense(1))\n",
    "\n",
    "model_housing2.compile(loss='mean_squared_error',\n",
    "              optimizer='sgd')\n",
    "\n",
    "early_stopping_callback = EarlyStopping(patience=5, min_delta=0.01, verbose=1)\n",
    "\n",
    "log_dir = os.path.join(\"housing_logs\", time.strftime(\"%Y%m%d-%H%M%S\"))\n",
    "tensorboard_callback = TensorBoard(log_dir=log_dir, histogram_freq=1)\n",
    "\n",
    "model_housing.fit(X_train, y_train, epochs=1000, callbacks=[early_stopping_callback, tensorboard_callback])\n",
    "\n",
    "model_housing.save('reg_housing_1.h5')"
   ],
   "metadata": {
    "collapsed": false
   }
  },
  {
   "cell_type": "markdown",
   "source": [],
   "metadata": {
    "collapsed": false
   }
  }
 ],
 "metadata": {
  "kernelspec": {
   "display_name": "Python 3",
   "language": "python",
   "name": "python3"
  },
  "language_info": {
   "codemirror_mode": {
    "name": "ipython",
    "version": 2
   },
   "file_extension": ".py",
   "mimetype": "text/x-python",
   "name": "python",
   "nbconvert_exporter": "python",
   "pygments_lexer": "ipython2",
   "version": "2.7.6"
  }
 },
 "nbformat": 4,
 "nbformat_minor": 0
}
