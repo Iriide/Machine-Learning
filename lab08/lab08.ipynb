{
 "cells": [
  {
   "cell_type": "code",
   "execution_count": 40,
   "metadata": {
    "collapsed": true
   },
   "outputs": [],
   "source": [
    "from sklearn import datasets\n",
    "from sklearn.decomposition import PCA\n",
    "from sklearn.preprocessing import StandardScaler\n",
    "import numpy as np\n",
    "import pickle"
   ]
  },
  {
   "cell_type": "markdown",
   "source": [
    "1. Przygotowanie danych"
   ],
   "metadata": {
    "collapsed": false
   }
  },
  {
   "cell_type": "code",
   "execution_count": 41,
   "outputs": [],
   "source": [
    "data_breast_cancer = datasets.load_breast_cancer()\n",
    "data_iris = datasets.load_iris()"
   ],
   "metadata": {
    "collapsed": false
   }
  },
  {
   "cell_type": "markdown",
   "source": [
    "2. Explained variance ratio"
   ],
   "metadata": {
    "collapsed": false
   }
  },
  {
   "cell_type": "code",
   "execution_count": 42,
   "outputs": [
    {
     "name": "stdout",
     "output_type": "stream",
     "text": [
      "[0.44272026 0.18971182 0.09393163 0.06602135 0.05495768 0.04024522\n",
      " 0.02250734]\n"
     ]
    }
   ],
   "source": [
    "scaler = StandardScaler()\n",
    "scaled_bc = scaler.fit_transform(data_breast_cancer[\"data\"])\n",
    "\n",
    "pca_bc = PCA(n_components=0.9)\n",
    "reduced_bc = pca_bc.fit_transform(scaled_bc)\n",
    "\n",
    "print(pca_bc.explained_variance_ratio_)\n",
    "with open(\"pca_bc.pkl\", \"wb\") as f:\n",
    "    pickle.dump(pca_bc.explained_variance_ratio_, f)"
   ],
   "metadata": {
    "collapsed": false
   }
  },
  {
   "cell_type": "code",
   "execution_count": 43,
   "outputs": [
    {
     "name": "stdout",
     "output_type": "stream",
     "text": [
      "[0.72962445 0.22850762]\n"
     ]
    }
   ],
   "source": [
    "scaled_ir = scaler.fit_transform(data_iris[\"data\"])\n",
    "\n",
    "pca_ir = PCA(n_components=0.9)\n",
    "reduced_ir = pca_ir.fit_transform(scaled_ir)\n",
    "\n",
    "print(pca_ir.explained_variance_ratio_)\n",
    "with open(\"pca_ir.pkl\", \"wb\") as f:\n",
    "    pickle.dump(pca_ir.explained_variance_ratio_, f)"
   ],
   "metadata": {
    "collapsed": false
   }
  },
  {
   "cell_type": "markdown",
   "source": [
    "3. Components"
   ],
   "metadata": {
    "collapsed": false
   }
  },
  {
   "cell_type": "code",
   "execution_count": 44,
   "outputs": [
    {
     "name": "stdout",
     "output_type": "stream",
     "text": [
      "[[ 2.18902444e-01  1.03724578e-01  2.27537293e-01  2.20994985e-01\n",
      "   1.42589694e-01  2.39285354e-01  2.58400481e-01  2.60853758e-01\n",
      "   1.38166959e-01  6.43633464e-02  2.05978776e-01  1.74280281e-02\n",
      "   2.11325916e-01  2.02869635e-01  1.45314521e-02  1.70393451e-01\n",
      "   1.53589790e-01  1.83417397e-01  4.24984216e-02  1.02568322e-01\n",
      "   2.27996634e-01  1.04469325e-01  2.36639681e-01  2.24870533e-01\n",
      "   1.27952561e-01  2.10095880e-01  2.28767533e-01  2.50885971e-01\n",
      "   1.22904556e-01  1.31783943e-01]\n",
      " [-2.33857132e-01 -5.97060883e-02 -2.15181361e-01 -2.31076711e-01\n",
      "   1.86113023e-01  1.51891610e-01  6.01653628e-02 -3.47675005e-02\n",
      "   1.90348770e-01  3.66575471e-01 -1.05552152e-01  8.99796818e-02\n",
      "  -8.94572342e-02 -1.52292628e-01  2.04430453e-01  2.32715896e-01\n",
      "   1.97207283e-01  1.30321560e-01  1.83848000e-01  2.80092027e-01\n",
      "  -2.19866379e-01 -4.54672983e-02 -1.99878428e-01 -2.19351858e-01\n",
      "   1.72304352e-01  1.43593173e-01  9.79641143e-02 -8.25723507e-03\n",
      "   1.41883349e-01  2.75339469e-01]\n",
      " [-8.53124284e-03  6.45499033e-02 -9.31421972e-03  2.86995259e-02\n",
      "  -1.04291904e-01 -7.40915709e-02  2.73383798e-03 -2.55635406e-02\n",
      "  -4.02399363e-02 -2.25740897e-02  2.68481387e-01  3.74633665e-01\n",
      "   2.66645367e-01  2.16006528e-01  3.08838979e-01  1.54779718e-01\n",
      "   1.76463743e-01  2.24657567e-01  2.88584292e-01  2.11503764e-01\n",
      "  -4.75069900e-02 -4.22978228e-02 -4.85465083e-02 -1.19023182e-02\n",
      "  -2.59797613e-01 -2.36075625e-01 -1.73057335e-01 -1.70344076e-01\n",
      "  -2.71312642e-01 -2.32791313e-01]\n",
      " [ 4.14089623e-02 -6.03050001e-01  4.19830991e-02  5.34337955e-02\n",
      "   1.59382765e-01  3.17945811e-02  1.91227535e-02  6.53359443e-02\n",
      "   6.71249840e-02  4.85867649e-02  9.79412418e-02 -3.59855528e-01\n",
      "   8.89924146e-02  1.08205039e-01  4.46641797e-02 -2.74693632e-02\n",
      "   1.31687997e-03  7.40673350e-02  4.40733510e-02  1.53047496e-02\n",
      "   1.54172396e-02 -6.32807885e-01  1.38027944e-02  2.58947492e-02\n",
      "   1.76522161e-02 -9.13284153e-02 -7.39511797e-02  6.00699571e-03\n",
      "  -3.62506947e-02 -7.70534703e-02]\n",
      " [ 3.77863538e-02 -4.94688505e-02  3.73746632e-02  1.03312514e-02\n",
      "  -3.65088528e-01  1.17039713e-02  8.63754118e-02 -4.38610252e-02\n",
      "  -3.05941428e-01 -4.44243602e-02 -1.54456496e-01 -1.91650506e-01\n",
      "  -1.20990220e-01 -1.27574432e-01 -2.32065676e-01  2.79968156e-01\n",
      "   3.53982091e-01  1.95548089e-01 -2.52868765e-01  2.63297438e-01\n",
      "  -4.40659209e-03 -9.28834001e-02  7.45415100e-03 -2.73909030e-02\n",
      "  -3.24435445e-01  1.21804107e-01  1.88518727e-01  4.33320687e-02\n",
      "  -2.44558663e-01  9.44233510e-02]\n",
      " [ 1.87407904e-02 -3.21788366e-02  1.73084449e-02 -1.88774796e-03\n",
      "  -2.86374497e-01 -1.41309489e-02 -9.34418089e-03 -5.20499505e-02\n",
      "   3.56458461e-01 -1.19430668e-01 -2.56032561e-02 -2.87473145e-02\n",
      "   1.81071500e-03 -4.28639079e-02 -3.42917393e-01  6.91975186e-02\n",
      "   5.63432386e-02 -3.12244482e-02  4.90245643e-01 -5.31952674e-02\n",
      "  -2.90684919e-04 -5.00080613e-02  8.50098715e-03 -2.51643821e-02\n",
      "  -3.69255370e-01  4.77057929e-02  2.83792555e-02 -3.08734498e-02\n",
      "   4.98926784e-01 -8.02235245e-02]\n",
      " [-1.24088340e-01  1.13995382e-02 -1.14477057e-01 -5.16534275e-02\n",
      "  -1.40668993e-01  3.09184960e-02 -1.07520443e-01 -1.50482214e-01\n",
      "  -9.38911345e-02  2.95760024e-01  3.12490037e-01 -9.07553556e-02\n",
      "   3.14640390e-01  3.46679003e-01 -2.44024056e-01  2.34635340e-02\n",
      "  -2.08823790e-01 -3.69645937e-01 -8.03822539e-02  1.91394973e-01\n",
      "  -9.70993602e-03  9.87074388e-03 -4.45726717e-04  6.78316595e-02\n",
      "  -1.08830886e-01  1.40472938e-01 -6.04880561e-02 -1.67966619e-01\n",
      "  -1.84906298e-02  3.74657626e-01]]\n",
      "[7, 9, 11, 21, 4, 28, 29]\n"
     ]
    }
   ],
   "source": [
    "components = pca_bc.components_\n",
    "print(components)\n",
    "indexes = []\n",
    "for i in range(0, len(components)):\n",
    "    indexes.append(np.argmax(abs(pca_bc.components_[i])))\n",
    "\n",
    "print(indexes)\n",
    "with open(\"idx_bc.pkl\", \"wb\") as f:\n",
    "    pickle.dump(indexes, f)"
   ],
   "metadata": {
    "collapsed": false
   }
  },
  {
   "cell_type": "code",
   "execution_count": 46,
   "outputs": [
    {
     "name": "stdout",
     "output_type": "stream",
     "text": [
      "[[ 0.52106591 -0.26934744  0.5804131   0.56485654]\n",
      " [ 0.37741762  0.92329566  0.02449161  0.06694199]]\n",
      "[2, 1]\n"
     ]
    }
   ],
   "source": [
    "components = pca_ir.components_\n",
    "print(components)\n",
    "indexes = []\n",
    "for i in range(0, len(components)):\n",
    "    indexes.append(np.argmax(abs(pca_ir.components_[i])))\n",
    "\n",
    "print(indexes)\n",
    "with open(\"idx_ir.pkl\", \"wb\") as f:\n",
    "    pickle.dump(indexes, f)"
   ],
   "metadata": {
    "collapsed": false
   }
  },
  {
   "cell_type": "markdown",
   "source": [],
   "metadata": {
    "collapsed": false
   }
  },
  {
   "cell_type": "markdown",
   "source": [],
   "metadata": {
    "collapsed": false
   }
  }
 ],
 "metadata": {
  "kernelspec": {
   "display_name": "Python 3",
   "language": "python",
   "name": "python3"
  },
  "language_info": {
   "codemirror_mode": {
    "name": "ipython",
    "version": 2
   },
   "file_extension": ".py",
   "mimetype": "text/x-python",
   "name": "python",
   "nbconvert_exporter": "python",
   "pygments_lexer": "ipython2",
   "version": "2.7.6"
  }
 },
 "nbformat": 4,
 "nbformat_minor": 0
}
